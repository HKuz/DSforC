{
 "cells": [
  {
   "cell_type": "markdown",
   "metadata": {},
   "source": [
    "# Hunter Participation by State (WIP)\n",
    "\n",
    "A look at trends of hunter participation by state and region in the United States based on hunting license information from 2004 to 2018.\n",
    "\n",
    "## Data Source\n",
    "\n",
    "Hunting license data are from U.S. Fish and Wildlife Service's [Wildlife and Sport Fish Restoration Program](https://wsfrprograms.fws.gov/Subpages/LicenseInfo/Hunting.htm) page."
   ]
  },
  {
   "cell_type": "code",
   "execution_count": null,
   "metadata": {
    "collapsed": true
   },
   "outputs": [],
   "source": []
  }
 ],
 "metadata": {
  "kernelspec": {
   "display_name": "Python 3",
   "language": "python",
   "name": "python3"
  },
  "language_info": {
   "codemirror_mode": {
    "name": "ipython",
    "version": 3
   },
   "file_extension": ".py",
   "mimetype": "text/x-python",
   "name": "python",
   "nbconvert_exporter": "python",
   "pygments_lexer": "ipython3",
   "version": "3.6.6"
  }
 },
 "nbformat": 4,
 "nbformat_minor": 2
}
