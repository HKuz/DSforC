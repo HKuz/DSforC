{
 "cells": [
  {
   "cell_type": "markdown",
   "metadata": {},
   "source": [
    "# Hunter Participation by State (WIP)\n",
    "\n",
    "A look at trends of hunter participation by state and region in the United States based on hunting license information from 2004 to 2018.\n",
    "\n",
    "## Data Source\n",
    "\n",
    "Hunting license data are from U.S. Fish and Wildlife Service's [Wildlife and Sport Fish Restoration Program](https://wsfrprograms.fws.gov/Subpages/LicenseInfo/Hunting.htm) page."
   ]
  },
  {
   "cell_type": "code",
   "execution_count": 1,
   "metadata": {
    "collapsed": true
   },
   "outputs": [],
   "source": [
    "import numpy as np\n",
    "import pandas as pd\n",
    "\n",
    "%matplotlib inline\n",
    "import matplotlib.pyplot as plt"
   ]
  },
  {
   "cell_type": "code",
   "execution_count": 2,
   "metadata": {},
   "outputs": [
    {
     "name": "stdout",
     "output_type": "stream",
     "text": [
      "Collecting folium\n",
      "\u001b[?25l  Downloading https://files.pythonhosted.org/packages/55/e2/7e523df8558b7f4b2ab4c62014fd378ccecce3fdc14c9928b272a88ae4cc/folium-0.7.0-py3-none-any.whl (85kB)\n",
      "\u001b[K    100% |████████████████████████████████| 92kB 2.4MB/s ta 0:00:01\n",
      "\u001b[?25hCollecting branca>=0.3.0 (from folium)\n",
      "  Downloading https://files.pythonhosted.org/packages/63/36/1c93318e9653f4e414a2e0c3b98fc898b4970e939afeedeee6075dd3b703/branca-0.3.1-py3-none-any.whl\n",
      "Requirement already satisfied: six in /Applications/anaconda/lib/python3.6/site-packages (from folium) (1.10.0)\n",
      "Requirement already satisfied: jinja2 in /Applications/anaconda/lib/python3.6/site-packages (from folium) (2.9.6)\n",
      "Requirement already satisfied: numpy in /Applications/anaconda/lib/python3.6/site-packages (from folium) (1.15.4)\n",
      "Requirement already satisfied: requests in /Applications/anaconda/lib/python3.6/site-packages (from folium) (2.14.2)\n",
      "Requirement already satisfied: MarkupSafe>=0.23 in /Applications/anaconda/lib/python3.6/site-packages (from jinja2->folium) (0.23)\n",
      "Installing collected packages: branca, folium\n",
      "Successfully installed branca-0.3.1 folium-0.7.0\n",
      "\u001b[33mYou are using pip version 18.1, however version 19.0.1 is available.\n",
      "You should consider upgrading via the 'pip install --upgrade pip' command.\u001b[0m\n"
     ]
    }
   ],
   "source": [
    "import sys\n",
    "!{sys.executable} -m pip install folium"
   ]
  },
  {
   "cell_type": "code",
   "execution_count": 3,
   "metadata": {
    "collapsed": true
   },
   "outputs": [],
   "source": [
    "# Import Data\n"
   ]
  },
  {
   "cell_type": "code",
   "execution_count": null,
   "metadata": {
    "collapsed": true
   },
   "outputs": [],
   "source": [
    "# Create chloropleth map\n",
    "'''\n",
    "us_states = \n",
    "map.choropleth(geo_data=my_USA_map, data=my_dataframe,\n",
    "             columns=['State', 'Participation'],\n",
    "             key_on='feature.id',\n",
    "             fill_color='RdYlGn', fill_opacity=0.7, line_opacity=0.2,\n",
    "             legend_name='Participation Rate (%)')\n",
    "map\n",
    "'''"
   ]
  }
 ],
 "metadata": {
  "kernelspec": {
   "display_name": "Python 3",
   "language": "python",
   "name": "python3"
  },
  "language_info": {
   "codemirror_mode": {
    "name": "ipython",
    "version": 3
   },
   "file_extension": ".py",
   "mimetype": "text/x-python",
   "name": "python",
   "nbconvert_exporter": "python",
   "pygments_lexer": "ipython3",
   "version": "3.6.6"
  }
 },
 "nbformat": 4,
 "nbformat_minor": 2
}
