{
 "cells": [
  {
   "cell_type": "markdown",
   "metadata": {},
   "source": [
    "# LWCF Grant Funding in New England\n",
    "\n",
    "The following analysis relies on grant information by state for 1965-2011 compiled by [Investigate West](http://www.invw.org/2012/06/11/lwcf-grants-database-1283/). Unfortunately, the Land and Water Conservation Fund (LWCF) [Project List by County and Summary Reports](https://waso-lwcf.ncrc.nps.gov/public/index.cfm) page appears to be down. Additionally, the latest Annual Report posted on nps.gov is from 2012."
   ]
  },
  {
   "cell_type": "code",
   "execution_count": 1,
   "metadata": {
    "collapsed": true
   },
   "outputs": [],
   "source": [
    "import numpy as np\n",
    "import pandas as pd\n",
    "\n",
    "import matplotlib.pyplot as plt\n",
    "%matplotlib inline\n",
    "\n",
    "import seaborn as sns"
   ]
  },
  {
   "cell_type": "code",
   "execution_count": 2,
   "metadata": {
    "collapsed": true
   },
   "outputs": [],
   "source": [
    "# Import data sets\n",
    "ct_grants = pd.read_csv('./Data/CT_LWCFGrants1965-2011.csv')\n",
    "me_grants = pd.read_csv('./Data/ME_LWCFGrants1965-2011.csv')\n",
    "ma_grants = pd.read_csv('./Data/MA_LWCFGrants1965-2011.csv')\n",
    "nh_grants = pd.read_csv('./Data/NH_LWCFGrants1965-2011.csv')\n",
    "ri_grants = pd.read_csv('./Data/RI_LWCFGrants1965-2011.csv')\n",
    "vt_grants = pd.read_csv('./Data/VT_LWCFGrants1965-2011.csv')\n",
    "\n",
    "new_england = pd.concat([ct_grants, me_grants, ma_grants, nh_grants, ri_grants, vt_grants], ignore_index=True)"
   ]
  },
  {
   "cell_type": "code",
   "execution_count": 3,
   "metadata": {},
   "outputs": [
    {
     "data": {
      "text/html": [
       "<div>\n",
       "<style>\n",
       "    .dataframe thead tr:only-child th {\n",
       "        text-align: right;\n",
       "    }\n",
       "\n",
       "    .dataframe thead th {\n",
       "        text-align: left;\n",
       "    }\n",
       "\n",
       "    .dataframe tbody tr th {\n",
       "        vertical-align: top;\n",
       "    }\n",
       "</style>\n",
       "<table border=\"1\" class=\"dataframe\">\n",
       "  <thead>\n",
       "    <tr style=\"text-align: right;\">\n",
       "      <th></th>\n",
       "      <th>Grant ID &amp; Element</th>\n",
       "      <th>Grant Name</th>\n",
       "      <th>Sponsor</th>\n",
       "      <th>County</th>\n",
       "      <th>State</th>\n",
       "      <th>Grant Amount</th>\n",
       "      <th>Year Approved</th>\n",
       "      <th>Year Completed</th>\n",
       "      <th>Type</th>\n",
       "    </tr>\n",
       "  </thead>\n",
       "  <tbody>\n",
       "    <tr>\n",
       "      <th>0</th>\n",
       "      <td>1 - XXX</td>\n",
       "      <td>SULLIVAN PROPERTY</td>\n",
       "      <td>DEPT. OF AGRICULTURE &amp; NATURAL RESOU</td>\n",
       "      <td>HARTFORD</td>\n",
       "      <td>CT</td>\n",
       "      <td>5000.0</td>\n",
       "      <td>1965</td>\n",
       "      <td>1967</td>\n",
       "      <td>Acquisition</td>\n",
       "    </tr>\n",
       "    <tr>\n",
       "      <th>1</th>\n",
       "      <td>3 - XXX</td>\n",
       "      <td>ADELMAN FIELD</td>\n",
       "      <td>TOWN OF BOZRAH</td>\n",
       "      <td>MIDDLESEX</td>\n",
       "      <td>CT</td>\n",
       "      <td>3000.0</td>\n",
       "      <td>1965</td>\n",
       "      <td>1966</td>\n",
       "      <td>Acquisition</td>\n",
       "    </tr>\n",
       "    <tr>\n",
       "      <th>2</th>\n",
       "      <td>4 - XXX</td>\n",
       "      <td>STATE OUTDOOR RECREATION PLAN</td>\n",
       "      <td>DEPT. OF AGRICULTURE &amp; NATURAL RESOU</td>\n",
       "      <td>PLANNING</td>\n",
       "      <td>CT</td>\n",
       "      <td>22500.0</td>\n",
       "      <td>1965</td>\n",
       "      <td>1966</td>\n",
       "      <td>Planning</td>\n",
       "    </tr>\n",
       "    <tr>\n",
       "      <th>3</th>\n",
       "      <td>5 - XXX</td>\n",
       "      <td>COUTU PROPERTY</td>\n",
       "      <td>TOWN OF MANSFIELD</td>\n",
       "      <td>TOLLAND</td>\n",
       "      <td>CT</td>\n",
       "      <td>300.0</td>\n",
       "      <td>1965</td>\n",
       "      <td>1967</td>\n",
       "      <td>Acquisition</td>\n",
       "    </tr>\n",
       "    <tr>\n",
       "      <th>4</th>\n",
       "      <td>2 - XXX</td>\n",
       "      <td>GOODWIN STATE FOREST</td>\n",
       "      <td>DEPT. OF AGRICULTURE &amp; NATURAL RESOU</td>\n",
       "      <td>WINDHAM</td>\n",
       "      <td>CT</td>\n",
       "      <td>6000.0</td>\n",
       "      <td>1965</td>\n",
       "      <td>1967</td>\n",
       "      <td>Acquisition</td>\n",
       "    </tr>\n",
       "  </tbody>\n",
       "</table>\n",
       "</div>"
      ],
      "text/plain": [
       "  Grant ID & Element                     Grant Name  \\\n",
       "0            1 - XXX              SULLIVAN PROPERTY   \n",
       "1            3 - XXX                  ADELMAN FIELD   \n",
       "2            4 - XXX  STATE OUTDOOR RECREATION PLAN   \n",
       "3            5 - XXX                 COUTU PROPERTY   \n",
       "4            2 - XXX           GOODWIN STATE FOREST   \n",
       "\n",
       "                                Sponsor     County State  Grant Amount  \\\n",
       "0  DEPT. OF AGRICULTURE & NATURAL RESOU   HARTFORD    CT        5000.0   \n",
       "1                        TOWN OF BOZRAH  MIDDLESEX    CT        3000.0   \n",
       "2  DEPT. OF AGRICULTURE & NATURAL RESOU   PLANNING    CT       22500.0   \n",
       "3                     TOWN OF MANSFIELD    TOLLAND    CT         300.0   \n",
       "4  DEPT. OF AGRICULTURE & NATURAL RESOU    WINDHAM    CT        6000.0   \n",
       "\n",
       "   Year Approved  Year Completed         Type  \n",
       "0           1965            1967  Acquisition  \n",
       "1           1965            1966  Acquisition  \n",
       "2           1965            1966     Planning  \n",
       "3           1965            1967  Acquisition  \n",
       "4           1965            1967  Acquisition  "
      ]
     },
     "execution_count": 3,
     "metadata": {},
     "output_type": "execute_result"
    }
   ],
   "source": [
    "new_england.head()"
   ]
  },
  {
   "cell_type": "code",
   "execution_count": 4,
   "metadata": {},
   "outputs": [
    {
     "data": {
      "text/html": [
       "<div>\n",
       "<style>\n",
       "    .dataframe thead tr:only-child th {\n",
       "        text-align: right;\n",
       "    }\n",
       "\n",
       "    .dataframe thead th {\n",
       "        text-align: left;\n",
       "    }\n",
       "\n",
       "    .dataframe tbody tr th {\n",
       "        vertical-align: top;\n",
       "    }\n",
       "</style>\n",
       "<table border=\"1\" class=\"dataframe\">\n",
       "  <thead>\n",
       "    <tr style=\"text-align: right;\">\n",
       "      <th></th>\n",
       "      <th>Grant ID &amp; Element</th>\n",
       "      <th>Grant Name</th>\n",
       "      <th>Sponsor</th>\n",
       "      <th>County</th>\n",
       "      <th>State</th>\n",
       "      <th>Grant Amount</th>\n",
       "      <th>Year Approved</th>\n",
       "      <th>Year Completed</th>\n",
       "      <th>Type</th>\n",
       "    </tr>\n",
       "  </thead>\n",
       "  <tbody>\n",
       "    <tr>\n",
       "      <th>3255</th>\n",
       "      <td>626 - XXX</td>\n",
       "      <td>Grand Isle School Community Playground</td>\n",
       "      <td>Town of Grand Isle</td>\n",
       "      <td>GRAND ISLE</td>\n",
       "      <td>VT</td>\n",
       "      <td>34962.0</td>\n",
       "      <td>2011</td>\n",
       "      <td>2011</td>\n",
       "      <td>Development</td>\n",
       "    </tr>\n",
       "    <tr>\n",
       "      <th>3256</th>\n",
       "      <td>629 - XXX</td>\n",
       "      <td>Cabin Construction - Three State Parks</td>\n",
       "      <td>State of Vermont, Dept.of Forests and Parks</td>\n",
       "      <td>MULTI-COUNTY</td>\n",
       "      <td>VT</td>\n",
       "      <td>153638.0</td>\n",
       "      <td>2011</td>\n",
       "      <td>2011</td>\n",
       "      <td>Development</td>\n",
       "    </tr>\n",
       "    <tr>\n",
       "      <th>3257</th>\n",
       "      <td>624 - XXX</td>\n",
       "      <td>Tunbridge Recreation Area Acquisition</td>\n",
       "      <td>Town of Tunbridge</td>\n",
       "      <td>ORANGE</td>\n",
       "      <td>VT</td>\n",
       "      <td>11035.0</td>\n",
       "      <td>2011</td>\n",
       "      <td>2011</td>\n",
       "      <td>Acquisition</td>\n",
       "    </tr>\n",
       "    <tr>\n",
       "      <th>3258</th>\n",
       "      <td>625 - XXX</td>\n",
       "      <td>Fair Haven Recreation Area and Playground</td>\n",
       "      <td>Town of Fair Haven</td>\n",
       "      <td>RUTLAND</td>\n",
       "      <td>VT</td>\n",
       "      <td>13000.0</td>\n",
       "      <td>2011</td>\n",
       "      <td>2011</td>\n",
       "      <td>Development</td>\n",
       "    </tr>\n",
       "    <tr>\n",
       "      <th>3259</th>\n",
       "      <td>627 - XXX</td>\n",
       "      <td>Chester Recreation - Community Pavilion Project</td>\n",
       "      <td>Town of Chester</td>\n",
       "      <td>WINDSOR</td>\n",
       "      <td>VT</td>\n",
       "      <td>17000.0</td>\n",
       "      <td>2011</td>\n",
       "      <td>2011</td>\n",
       "      <td>Development</td>\n",
       "    </tr>\n",
       "  </tbody>\n",
       "</table>\n",
       "</div>"
      ],
      "text/plain": [
       "     Grant ID & Element                                       Grant Name  \\\n",
       "3255          626 - XXX           Grand Isle School Community Playground   \n",
       "3256          629 - XXX           Cabin Construction - Three State Parks   \n",
       "3257          624 - XXX            Tunbridge Recreation Area Acquisition   \n",
       "3258          625 - XXX        Fair Haven Recreation Area and Playground   \n",
       "3259          627 - XXX  Chester Recreation - Community Pavilion Project   \n",
       "\n",
       "                                          Sponsor        County State  \\\n",
       "3255                           Town of Grand Isle    GRAND ISLE    VT   \n",
       "3256  State of Vermont, Dept.of Forests and Parks  MULTI-COUNTY    VT   \n",
       "3257                            Town of Tunbridge        ORANGE    VT   \n",
       "3258                           Town of Fair Haven       RUTLAND    VT   \n",
       "3259                              Town of Chester       WINDSOR    VT   \n",
       "\n",
       "      Grant Amount  Year Approved  Year Completed         Type  \n",
       "3255       34962.0           2011            2011  Development  \n",
       "3256      153638.0           2011            2011  Development  \n",
       "3257       11035.0           2011            2011  Acquisition  \n",
       "3258       13000.0           2011            2011  Development  \n",
       "3259       17000.0           2011            2011  Development  "
      ]
     },
     "execution_count": 4,
     "metadata": {},
     "output_type": "execute_result"
    }
   ],
   "source": [
    "new_england.tail()"
   ]
  },
  {
   "cell_type": "code",
   "execution_count": 5,
   "metadata": {},
   "outputs": [
    {
     "data": {
      "text/plain": [
       "(3260, 9)"
      ]
     },
     "execution_count": 5,
     "metadata": {},
     "output_type": "execute_result"
    }
   ],
   "source": [
    "new_england.shape"
   ]
  },
  {
   "cell_type": "code",
   "execution_count": 6,
   "metadata": {},
   "outputs": [
    {
     "name": "stdout",
     "output_type": "stream",
     "text": [
      "<class 'pandas.core.frame.DataFrame'>\n",
      "RangeIndex: 3260 entries, 0 to 3259\n",
      "Data columns (total 9 columns):\n",
      "Grant ID & Element    3260 non-null object\n",
      "Grant Name            3260 non-null object\n",
      "Sponsor               3260 non-null object\n",
      "County                3260 non-null object\n",
      "State                 3260 non-null object\n",
      "Grant Amount          3260 non-null float64\n",
      "Year Approved         3260 non-null int64\n",
      "Year Completed        3260 non-null int64\n",
      "Type                  3260 non-null object\n",
      "dtypes: float64(1), int64(2), object(6)\n",
      "memory usage: 229.3+ KB\n"
     ]
    }
   ],
   "source": [
    "new_england.info()"
   ]
  },
  {
   "cell_type": "code",
   "execution_count": 9,
   "metadata": {},
   "outputs": [
    {
     "data": {
      "text/plain": [
       "count    3.260000e+03\n",
       "mean     9.548901e+04\n",
       "std      1.972163e+05\n",
       "min      1.200000e-01\n",
       "25%      1.507696e+04\n",
       "50%      3.449163e+04\n",
       "75%      9.000000e+04\n",
       "max      2.596327e+06\n",
       "Name: Grant Amount, dtype: float64"
      ]
     },
     "execution_count": 9,
     "metadata": {},
     "output_type": "execute_result"
    }
   ],
   "source": [
    "new_england.describe()['Grant Amount']"
   ]
  },
  {
   "cell_type": "code",
   "execution_count": 7,
   "metadata": {},
   "outputs": [
    {
     "data": {
      "text/plain": [
       "State\n",
       "CT    63195093.28\n",
       "MA    97591917.39\n",
       "ME    40857039.48\n",
       "NH    36508412.10\n",
       "RI    39826280.21\n",
       "VT    33315420.30\n",
       "Name: Grant Amount, dtype: float64"
      ]
     },
     "execution_count": 7,
     "metadata": {},
     "output_type": "execute_result"
    }
   ],
   "source": [
    "# State Grant Totals\n",
    "new_england.groupby('State').sum()['Grant Amount']"
   ]
  },
  {
   "cell_type": "code",
   "execution_count": 15,
   "metadata": {},
   "outputs": [],
   "source": [
    "years = [x for x in range(1965, 2012)]\n",
    "grants_by_year = []\n",
    "for state in ['CT', 'ME', 'MA', 'NH', 'RI', 'VT']:\n",
    "    grants_by_year.append(new_england[new_england['State'] == state].groupby('Year Approved').sum()['Grant Amount'])\n"
   ]
  },
  {
   "cell_type": "code",
   "execution_count": null,
   "metadata": {
    "collapsed": true
   },
   "outputs": [],
   "source": []
  }
 ],
 "metadata": {
  "kernelspec": {
   "display_name": "Python 3",
   "language": "python",
   "name": "python3"
  },
  "language_info": {
   "codemirror_mode": {
    "name": "ipython",
    "version": 3
   },
   "file_extension": ".py",
   "mimetype": "text/x-python",
   "name": "python",
   "nbconvert_exporter": "python",
   "pygments_lexer": "ipython3",
   "version": "3.6.1"
  }
 },
 "nbformat": 4,
 "nbformat_minor": 2
}
