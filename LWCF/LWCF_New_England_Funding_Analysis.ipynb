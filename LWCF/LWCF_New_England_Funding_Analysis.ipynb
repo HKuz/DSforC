{
 "cells": [
  {
   "cell_type": "markdown",
   "metadata": {},
   "source": [
    "# LWCF Grant Funding in New England\n",
    "\n",
    "The following analysis relies on grant information by state from 1965-2011 compiled by [Investigate West](http://www.invw.org/2012/06/11/lwcf-grants-database-1283/). There doesn't seem to be recent information. The Land and Water Conservation Fund (LWCF) [Project List by County and Summary Reports](https://waso-lwcf.ncrc.nps.gov/public/index.cfm) page is generally unresponsive and the latest Annual Report posted on nps.gov is from 2012."
   ]
  },
  {
   "cell_type": "code",
   "execution_count": 4,
   "metadata": {
    "collapsed": true
   },
   "outputs": [],
   "source": [
    "import numpy as np\n",
    "import pandas as pd\n",
    "\n",
    "import matplotlib.pyplot as plt\n",
    "%matplotlib inline\n",
    "\n",
    "import seaborn as sns"
   ]
  },
  {
   "cell_type": "code",
   "execution_count": 22,
   "metadata": {
    "collapsed": true
   },
   "outputs": [],
   "source": [
    "# Import data sets\n",
    "ct_grants = pd.read_excel('./Data/CT_LWCFGrants1965-2011.xlsx')\n",
    "me_grants = pd.read_excel('./Data/ME_LWCFGrants1965-2011.xlsx')\n",
    "ma_grants = pd.read_excel('./Data/MA_LWCFGrants1965-2011.xlsx')\n",
    "nh_grants = pd.read_excel('./Data/NH_LWCFGrants1965-2011.xlsx')\n",
    "ri_grants = pd.read_excel('./Data/RI_LWCFGrants1965-2011.xlsx')\n",
    "vt_grants = pd.read_excel('./Data/VT_LWCFGrants1965-2011.xlsx')\n",
    "\n",
    "new_england = pd.concat([ct_grants, me_grants, ma_grants, nh_grants, ri_grants, vt_grants], ignore_index=True)"
   ]
  },
  {
   "cell_type": "code",
   "execution_count": 6,
   "metadata": {},
   "outputs": [
    {
     "data": {
      "text/html": [
       "<div>\n",
       "<style>\n",
       "    .dataframe thead tr:only-child th {\n",
       "        text-align: right;\n",
       "    }\n",
       "\n",
       "    .dataframe thead th {\n",
       "        text-align: left;\n",
       "    }\n",
       "\n",
       "    .dataframe tbody tr th {\n",
       "        vertical-align: top;\n",
       "    }\n",
       "</style>\n",
       "<table border=\"1\" class=\"dataframe\">\n",
       "  <thead>\n",
       "    <tr style=\"text-align: right;\">\n",
       "      <th></th>\n",
       "      <th>Grant ID &amp; Element</th>\n",
       "      <th>Grant Name</th>\n",
       "      <th>Sponsor</th>\n",
       "      <th>County</th>\n",
       "      <th>State</th>\n",
       "      <th>Grant Amount</th>\n",
       "      <th>Year Approved</th>\n",
       "      <th>Year Completed</th>\n",
       "      <th>Type</th>\n",
       "    </tr>\n",
       "  </thead>\n",
       "  <tbody>\n",
       "    <tr>\n",
       "      <th>0</th>\n",
       "      <td>1 - XXX</td>\n",
       "      <td>SULLIVAN PROPERTY</td>\n",
       "      <td>DEPT. OF AGRICULTURE &amp; NATURAL RESOU</td>\n",
       "      <td>HARTFORD</td>\n",
       "      <td>CT</td>\n",
       "      <td>5000.0</td>\n",
       "      <td>1965</td>\n",
       "      <td>1967</td>\n",
       "      <td>Acquisition</td>\n",
       "    </tr>\n",
       "    <tr>\n",
       "      <th>1</th>\n",
       "      <td>3 - XXX</td>\n",
       "      <td>ADELMAN FIELD</td>\n",
       "      <td>TOWN OF BOZRAH</td>\n",
       "      <td>MIDDLESEX</td>\n",
       "      <td>CT</td>\n",
       "      <td>3000.0</td>\n",
       "      <td>1965</td>\n",
       "      <td>1966</td>\n",
       "      <td>Acquisition</td>\n",
       "    </tr>\n",
       "    <tr>\n",
       "      <th>2</th>\n",
       "      <td>4 - XXX</td>\n",
       "      <td>STATE OUTDOOR RECREATION PLAN</td>\n",
       "      <td>DEPT. OF AGRICULTURE &amp; NATURAL RESOU</td>\n",
       "      <td>PLANNING</td>\n",
       "      <td>CT</td>\n",
       "      <td>22500.0</td>\n",
       "      <td>1965</td>\n",
       "      <td>1966</td>\n",
       "      <td>Planning</td>\n",
       "    </tr>\n",
       "    <tr>\n",
       "      <th>3</th>\n",
       "      <td>5 - XXX</td>\n",
       "      <td>COUTU PROPERTY</td>\n",
       "      <td>TOWN OF MANSFIELD</td>\n",
       "      <td>TOLLAND</td>\n",
       "      <td>CT</td>\n",
       "      <td>300.0</td>\n",
       "      <td>1965</td>\n",
       "      <td>1967</td>\n",
       "      <td>Acquisition</td>\n",
       "    </tr>\n",
       "    <tr>\n",
       "      <th>4</th>\n",
       "      <td>2 - XXX</td>\n",
       "      <td>GOODWIN STATE FOREST</td>\n",
       "      <td>DEPT. OF AGRICULTURE &amp; NATURAL RESOU</td>\n",
       "      <td>WINDHAM</td>\n",
       "      <td>CT</td>\n",
       "      <td>6000.0</td>\n",
       "      <td>1965</td>\n",
       "      <td>1967</td>\n",
       "      <td>Acquisition</td>\n",
       "    </tr>\n",
       "  </tbody>\n",
       "</table>\n",
       "</div>"
      ],
      "text/plain": [
       "  Grant ID & Element                     Grant Name  \\\n",
       "0            1 - XXX              SULLIVAN PROPERTY   \n",
       "1            3 - XXX                  ADELMAN FIELD   \n",
       "2            4 - XXX  STATE OUTDOOR RECREATION PLAN   \n",
       "3            5 - XXX                 COUTU PROPERTY   \n",
       "4            2 - XXX           GOODWIN STATE FOREST   \n",
       "\n",
       "                                Sponsor     County State  Grant Amount  \\\n",
       "0  DEPT. OF AGRICULTURE & NATURAL RESOU   HARTFORD    CT        5000.0   \n",
       "1                        TOWN OF BOZRAH  MIDDLESEX    CT        3000.0   \n",
       "2  DEPT. OF AGRICULTURE & NATURAL RESOU   PLANNING    CT       22500.0   \n",
       "3                     TOWN OF MANSFIELD    TOLLAND    CT         300.0   \n",
       "4  DEPT. OF AGRICULTURE & NATURAL RESOU    WINDHAM    CT        6000.0   \n",
       "\n",
       "   Year Approved  Year Completed         Type  \n",
       "0           1965            1967  Acquisition  \n",
       "1           1965            1966  Acquisition  \n",
       "2           1965            1966     Planning  \n",
       "3           1965            1967  Acquisition  \n",
       "4           1965            1967  Acquisition  "
      ]
     },
     "execution_count": 6,
     "metadata": {},
     "output_type": "execute_result"
    }
   ],
   "source": [
    "new_england.head()"
   ]
  },
  {
   "cell_type": "code",
   "execution_count": 7,
   "metadata": {},
   "outputs": [
    {
     "data": {
      "text/html": [
       "<div>\n",
       "<style>\n",
       "    .dataframe thead tr:only-child th {\n",
       "        text-align: right;\n",
       "    }\n",
       "\n",
       "    .dataframe thead th {\n",
       "        text-align: left;\n",
       "    }\n",
       "\n",
       "    .dataframe tbody tr th {\n",
       "        vertical-align: top;\n",
       "    }\n",
       "</style>\n",
       "<table border=\"1\" class=\"dataframe\">\n",
       "  <thead>\n",
       "    <tr style=\"text-align: right;\">\n",
       "      <th></th>\n",
       "      <th>Grant ID &amp; Element</th>\n",
       "      <th>Grant Name</th>\n",
       "      <th>Sponsor</th>\n",
       "      <th>County</th>\n",
       "      <th>State</th>\n",
       "      <th>Grant Amount</th>\n",
       "      <th>Year Approved</th>\n",
       "      <th>Year Completed</th>\n",
       "      <th>Type</th>\n",
       "    </tr>\n",
       "  </thead>\n",
       "  <tbody>\n",
       "    <tr>\n",
       "      <th>3255</th>\n",
       "      <td>626 - XXX</td>\n",
       "      <td>Grand Isle School Community Playground</td>\n",
       "      <td>Town of Grand Isle</td>\n",
       "      <td>GRAND ISLE</td>\n",
       "      <td>VT</td>\n",
       "      <td>34962.0</td>\n",
       "      <td>2011</td>\n",
       "      <td>2011</td>\n",
       "      <td>Development</td>\n",
       "    </tr>\n",
       "    <tr>\n",
       "      <th>3256</th>\n",
       "      <td>629 - XXX</td>\n",
       "      <td>Cabin Construction - Three State Parks</td>\n",
       "      <td>State of Vermont, Dept.of Forests and Parks</td>\n",
       "      <td>MULTI-COUNTY</td>\n",
       "      <td>VT</td>\n",
       "      <td>153638.0</td>\n",
       "      <td>2011</td>\n",
       "      <td>2011</td>\n",
       "      <td>Development</td>\n",
       "    </tr>\n",
       "    <tr>\n",
       "      <th>3257</th>\n",
       "      <td>624 - XXX</td>\n",
       "      <td>Tunbridge Recreation Area Acquisition</td>\n",
       "      <td>Town of Tunbridge</td>\n",
       "      <td>ORANGE</td>\n",
       "      <td>VT</td>\n",
       "      <td>11035.0</td>\n",
       "      <td>2011</td>\n",
       "      <td>2011</td>\n",
       "      <td>Acquisition</td>\n",
       "    </tr>\n",
       "    <tr>\n",
       "      <th>3258</th>\n",
       "      <td>625 - XXX</td>\n",
       "      <td>Fair Haven Recreation Area and Playground</td>\n",
       "      <td>Town of Fair Haven</td>\n",
       "      <td>RUTLAND</td>\n",
       "      <td>VT</td>\n",
       "      <td>13000.0</td>\n",
       "      <td>2011</td>\n",
       "      <td>2011</td>\n",
       "      <td>Development</td>\n",
       "    </tr>\n",
       "    <tr>\n",
       "      <th>3259</th>\n",
       "      <td>627 - XXX</td>\n",
       "      <td>Chester Recreation - Community Pavilion Project</td>\n",
       "      <td>Town of Chester</td>\n",
       "      <td>WINDSOR</td>\n",
       "      <td>VT</td>\n",
       "      <td>17000.0</td>\n",
       "      <td>2011</td>\n",
       "      <td>2011</td>\n",
       "      <td>Development</td>\n",
       "    </tr>\n",
       "  </tbody>\n",
       "</table>\n",
       "</div>"
      ],
      "text/plain": [
       "     Grant ID & Element                                       Grant Name  \\\n",
       "3255          626 - XXX           Grand Isle School Community Playground   \n",
       "3256          629 - XXX           Cabin Construction - Three State Parks   \n",
       "3257          624 - XXX            Tunbridge Recreation Area Acquisition   \n",
       "3258          625 - XXX        Fair Haven Recreation Area and Playground   \n",
       "3259          627 - XXX  Chester Recreation - Community Pavilion Project   \n",
       "\n",
       "                                          Sponsor        County State  \\\n",
       "3255                           Town of Grand Isle    GRAND ISLE    VT   \n",
       "3256  State of Vermont, Dept.of Forests and Parks  MULTI-COUNTY    VT   \n",
       "3257                            Town of Tunbridge        ORANGE    VT   \n",
       "3258                           Town of Fair Haven       RUTLAND    VT   \n",
       "3259                              Town of Chester       WINDSOR    VT   \n",
       "\n",
       "      Grant Amount  Year Approved  Year Completed         Type  \n",
       "3255       34962.0           2011            2011  Development  \n",
       "3256      153638.0           2011            2011  Development  \n",
       "3257       11035.0           2011            2011  Acquisition  \n",
       "3258       13000.0           2011            2011  Development  \n",
       "3259       17000.0           2011            2011  Development  "
      ]
     },
     "execution_count": 7,
     "metadata": {},
     "output_type": "execute_result"
    }
   ],
   "source": [
    "new_england.tail()"
   ]
  },
  {
   "cell_type": "code",
   "execution_count": 8,
   "metadata": {},
   "outputs": [
    {
     "data": {
      "text/plain": [
       "(3260, 9)"
      ]
     },
     "execution_count": 8,
     "metadata": {},
     "output_type": "execute_result"
    }
   ],
   "source": [
    "new_england.shape"
   ]
  },
  {
   "cell_type": "code",
   "execution_count": 9,
   "metadata": {},
   "outputs": [
    {
     "name": "stdout",
     "output_type": "stream",
     "text": [
      "<class 'pandas.core.frame.DataFrame'>\n",
      "RangeIndex: 3260 entries, 0 to 3259\n",
      "Data columns (total 9 columns):\n",
      "Grant ID & Element    3260 non-null object\n",
      "Grant Name            3260 non-null object\n",
      "Sponsor               3260 non-null object\n",
      "County                3260 non-null object\n",
      "State                 3260 non-null object\n",
      "Grant Amount          3260 non-null float64\n",
      "Year Approved         3260 non-null int64\n",
      "Year Completed        3260 non-null int64\n",
      "Type                  3260 non-null object\n",
      "dtypes: float64(1), int64(2), object(6)\n",
      "memory usage: 229.3+ KB\n"
     ]
    }
   ],
   "source": [
    "new_england.info()"
   ]
  },
  {
   "cell_type": "code",
   "execution_count": 10,
   "metadata": {},
   "outputs": [
    {
     "data": {
      "text/plain": [
       "count    3.260000e+03\n",
       "mean     9.548901e+04\n",
       "std      1.972163e+05\n",
       "min      1.200000e-01\n",
       "25%      1.507696e+04\n",
       "50%      3.449163e+04\n",
       "75%      9.000000e+04\n",
       "max      2.596327e+06\n",
       "Name: Grant Amount, dtype: float64"
      ]
     },
     "execution_count": 10,
     "metadata": {},
     "output_type": "execute_result"
    }
   ],
   "source": [
    "new_england.describe()['Grant Amount']"
   ]
  },
  {
   "cell_type": "markdown",
   "metadata": {},
   "source": [
    "## Distribution and Outlier Analysis of Grant Amounts"
   ]
  },
  {
   "cell_type": "code",
   "execution_count": 11,
   "metadata": {},
   "outputs": [
    {
     "data": {
      "image/png": "[encoded data removed]",
      "text/plain": [
       "<matplotlib.figure.Figure at 0x116ff2e48>"
      ]
     },
     "metadata": {},
     "output_type": "display_data"
    }
   ],
   "source": [
    "# Kernel density and rug plot of grant amounts\n",
    "ne_grants = new_england['Grant Amount']  # save Grant Amount column as series\n",
    "sns.distplot(ne_grants, hist=False, rug=True);"
   ]
  },
  {
   "cell_type": "markdown",
   "metadata": {},
   "source": [
    "The kernel density plot for grant amounts shows a strongly right-skewed distribution, as also shown by the almost 3x difference between the mean (\\$95,489) and median (\\$34,491) values. Three-quarters of all grants are valued at \\$90,000 or less, but the presence of multi-million grants pulls the mean value higher than the third quartile."
   ]
  },
  {
   "cell_type": "code",
   "execution_count": 12,
   "metadata": {},
   "outputs": [
    {
     "data": {
      "text/plain": [
       "<matplotlib.axes._subplots.AxesSubplot at 0x11e23c128>"
      ]
     },
     "execution_count": 12,
     "metadata": {},
     "output_type": "execute_result"
    },
    {
     "data": {
      "image/png": "[encoded data removed]",
      "text/plain": [
       "<matplotlib.figure.Figure at 0x1171ee828>"
      ]
     },
     "metadata": {},
     "output_type": "display_data"
    }
   ],
   "source": [
    "# Box plot of grant amounts to show outliers\n",
    "sns.boxplot(ne_grants)"
   ]
  },
  {
   "cell_type": "code",
   "execution_count": 13,
   "metadata": {},
   "outputs": [
    {
     "name": "stdout",
     "output_type": "stream",
     "text": [
      "IQR: 74923\n",
      "The threshold for a high grant amount outlier: $202385\n",
      "Number of high grant amount outliers: 366\n"
     ]
    }
   ],
   "source": [
    "first_q = ne_grants.describe()['25%']\n",
    "median = ne_grants.describe()['50%']\n",
    "third_q = ne_grants.describe()['75%']\n",
    "iqr = third_q - first_q\n",
    "print('IQR: {0:.0f}'.format(iqr))\n",
    "outlier_low = first_q - 1.5 * iqr\n",
    "outlier_high = 1.5 * iqr + third_q\n",
    "print('The threshold for a high grant amount outlier: ${0:.0f}'.format(outlier_high))\n",
    "num_outliers = ne_grants[ne_grants > outlier_high].count()\n",
    "print('Number of high grant amount outliers: {}'.format(num_outliers))"
   ]
  },
  {
   "cell_type": "markdown",
   "metadata": {},
   "source": [
    "There are no low-end outliers (the first quartile less 1.5 times IQR is a negative number), but 366 high-end outliers. These are grant values above \\$202,385, which is 1.5 times the interquartile range plus the third quartile amount. Out of the total data set of 3,260 observations, this is approximately 11% of the data set."
   ]
  },
  {
   "cell_type": "markdown",
   "metadata": {},
   "source": [
    "## Grant Analysis by State"
   ]
  },
  {
   "cell_type": "code",
   "execution_count": 14,
   "metadata": {},
   "outputs": [
    {
     "data": {
      "text/plain": [
       "State\n",
       "CT    63.195093\n",
       "MA    97.591917\n",
       "ME    40.857039\n",
       "NH    36.508412\n",
       "RI    39.826280\n",
       "VT    33.315420\n",
       "Name: Grant Amount, dtype: float64"
      ]
     },
     "execution_count": 14,
     "metadata": {},
     "output_type": "execute_result"
    }
   ],
   "source": [
    "# State Grant Totals in millions\n",
    "total_grants = new_england.groupby('State').sum()['Grant Amount'] / 1000000\n",
    "total_grants"
   ]
  },
  {
   "cell_type": "code",
   "execution_count": 15,
   "metadata": {},
   "outputs": [
    {
     "data": {
      "text/plain": [
       "<matplotlib.text.Text at 0x11e5b5f60>"
      ]
     },
     "execution_count": 15,
     "metadata": {},
     "output_type": "execute_result"
    },
    {
     "data": {
      "image/png": "[encoded data removed]",
      "text/plain": [
       "<matplotlib.figure.Figure at 0x11e4ce358>"
      ]
     },
     "metadata": {},
     "output_type": "display_data"
    }
   ],
   "source": [
    "# Plot total grant amounts by state\n",
    "states = ['CT', 'MA', 'ME', 'NH', 'RI', 'VT']\n",
    "y_pos = np.arange(len(states))\n",
    "plt.bar(y_pos, total_grants, align='center')\n",
    "plt.xticks(y_pos, states)\n",
    "plt.title('Total Grants by State')\n",
    "plt.ylabel('Grants in US$ millions')"
   ]
  },
  {
   "cell_type": "code",
   "execution_count": 16,
   "metadata": {},
   "outputs": [
    {
     "data": {
      "image/png": "[encoded data removed]",
      "text/plain": [
       "<matplotlib.figure.Figure at 0x11e4d9d68>"
      ]
     },
     "metadata": {},
     "output_type": "display_data"
    }
   ],
   "source": [
    "total_grants.plot(kind='pie', figsize=(10, 10));"
   ]
  },
  {
   "cell_type": "code",
   "execution_count": 17,
   "metadata": {},
   "outputs": [
    {
     "data": {
      "text/plain": [
       "array([[<matplotlib.axes._subplots.AxesSubplot object at 0x11e576a20>,\n",
       "        <matplotlib.axes._subplots.AxesSubplot object at 0x11e87a6a0>],\n",
       "       [<matplotlib.axes._subplots.AxesSubplot object at 0x11e71abe0>,\n",
       "        <matplotlib.axes._subplots.AxesSubplot object at 0x11e69a390>],\n",
       "       [<matplotlib.axes._subplots.AxesSubplot object at 0x11e5d6470>,\n",
       "        <matplotlib.axes._subplots.AxesSubplot object at 0x11e5d64e0>]], dtype=object)"
      ]
     },
     "execution_count": 17,
     "metadata": {},
     "output_type": "execute_result"
    },
    {
     "data": {
      "image/png": "[encoded data removed]",
      "text/plain": [
       "<matplotlib.figure.Figure at 0x11e752d68>"
      ]
     },
     "metadata": {},
     "output_type": "display_data"
    }
   ],
   "source": [
    "# Plot grant amount by year for each state\n",
    "# Amounts determined by 'Year Approved' column\n",
    "grants_by_year = []\n",
    "for state in states:\n",
    "    tmp = new_england[new_england['State'] == state].groupby('Year Approved').sum()['Grant Amount']\n",
    "    grants_by_year.append(tmp)\n",
    "\n",
    "df_grants_by_year = pd.concat(grants_by_year, axis=1)\n",
    "df_grants_by_year.columns = states\n",
    "df_grants_by_year.fillna(value=0, inplace=True)\n",
    "# df_grants_by_year\n",
    "\n",
    "df_grants_by_year.plot(kind='bar', subplots=True, layout=(3, 2), title=states, sharey=True, figsize=(20, 15))"
   ]
  },
  {
   "cell_type": "markdown",
   "metadata": {},
   "source": [
    "In general, it appears that Massachusetts and Connecticut are the biggest beneficiares by dollar-amount of LWCF grants (they have larger populations than the other New England states - see the table below). Also, based on the annual grant amounts by year, the 1970's seem to be the golden years of investing in conservation project.\n",
    "\n",
    "| State | Population |\n",
    "| --- | --- |\n",
    "| MA | 6,859,819 |\n",
    "| CT | 3,576,452 |\n",
    "| NH | 1,342,795 |\n",
    "| ME | 1,331,479 |\n",
    "| RI | 1,056,426 |\n",
    "| VT |   624,594 |\n",
    "Source: Wikipedia"
   ]
  },
  {
   "cell_type": "code",
   "execution_count": 18,
   "metadata": {},
   "outputs": [
    {
     "data": {
      "text/html": [
       "<div>\n",
       "<style>\n",
       "    .dataframe thead tr:only-child th {\n",
       "        text-align: right;\n",
       "    }\n",
       "\n",
       "    .dataframe thead th {\n",
       "        text-align: left;\n",
       "    }\n",
       "\n",
       "    .dataframe tbody tr th {\n",
       "        vertical-align: top;\n",
       "    }\n",
       "</style>\n",
       "<table border=\"1\" class=\"dataframe\">\n",
       "  <thead>\n",
       "    <tr style=\"text-align: right;\">\n",
       "      <th>Type</th>\n",
       "      <th>Acquisition</th>\n",
       "      <th>Combination</th>\n",
       "      <th>Development</th>\n",
       "      <th>Planning</th>\n",
       "      <th>Redevelopment</th>\n",
       "    </tr>\n",
       "    <tr>\n",
       "      <th>State</th>\n",
       "      <th></th>\n",
       "      <th></th>\n",
       "      <th></th>\n",
       "      <th></th>\n",
       "      <th></th>\n",
       "    </tr>\n",
       "  </thead>\n",
       "  <tbody>\n",
       "    <tr>\n",
       "      <th>CT</th>\n",
       "      <td>199</td>\n",
       "      <td>9</td>\n",
       "      <td>114</td>\n",
       "      <td>9</td>\n",
       "      <td>43</td>\n",
       "    </tr>\n",
       "    <tr>\n",
       "      <th>MA</th>\n",
       "      <td>126</td>\n",
       "      <td>31</td>\n",
       "      <td>191</td>\n",
       "      <td>9</td>\n",
       "      <td>93</td>\n",
       "    </tr>\n",
       "    <tr>\n",
       "      <th>ME</th>\n",
       "      <td>152</td>\n",
       "      <td>77</td>\n",
       "      <td>476</td>\n",
       "      <td>29</td>\n",
       "      <td>97</td>\n",
       "    </tr>\n",
       "    <tr>\n",
       "      <th>NH</th>\n",
       "      <td>189</td>\n",
       "      <td>43</td>\n",
       "      <td>347</td>\n",
       "      <td>16</td>\n",
       "      <td>45</td>\n",
       "    </tr>\n",
       "    <tr>\n",
       "      <th>RI</th>\n",
       "      <td>77</td>\n",
       "      <td>14</td>\n",
       "      <td>204</td>\n",
       "      <td>15</td>\n",
       "      <td>26</td>\n",
       "    </tr>\n",
       "    <tr>\n",
       "      <th>VT</th>\n",
       "      <td>135</td>\n",
       "      <td>31</td>\n",
       "      <td>342</td>\n",
       "      <td>21</td>\n",
       "      <td>100</td>\n",
       "    </tr>\n",
       "  </tbody>\n",
       "</table>\n",
       "</div>"
      ],
      "text/plain": [
       "Type   Acquisition  Combination  Development  Planning  Redevelopment\n",
       "State                                                                \n",
       "CT             199            9          114         9             43\n",
       "MA             126           31          191         9             93\n",
       "ME             152           77          476        29             97\n",
       "NH             189           43          347        16             45\n",
       "RI              77           14          204        15             26\n",
       "VT             135           31          342        21            100"
      ]
     },
     "execution_count": 18,
     "metadata": {},
     "output_type": "execute_result"
    }
   ],
   "source": [
    "# Breakdown of the number of each grant by type (for each state)\n",
    "gt_num = new_england.groupby(['State', 'Type'])['Type'].count().unstack('Type').fillna(0)\n",
    "gt_num"
   ]
  },
  {
   "cell_type": "code",
   "execution_count": 19,
   "metadata": {},
   "outputs": [
    {
     "data": {
      "text/plain": [
       "<matplotlib.axes._subplots.AxesSubplot at 0x11e45bf98>"
      ]
     },
     "execution_count": 19,
     "metadata": {},
     "output_type": "execute_result"
    },
    {
     "data": {
      "image/png": "[encoded data removed]",
      "text/plain": [
       "<matplotlib.figure.Figure at 0x11e4ce208>"
      ]
     },
     "metadata": {},
     "output_type": "display_data"
    }
   ],
   "source": [
    "# Plot the number of grants by type\n",
    "gt_num.plot(kind='bar', figsize=(12,10), title='Number of Grants by Type', stacked=True)"
   ]
  },
  {
   "cell_type": "code",
   "execution_count": 20,
   "metadata": {},
   "outputs": [
    {
     "data": {
      "text/html": [
       "<div>\n",
       "<style>\n",
       "    .dataframe thead tr:only-child th {\n",
       "        text-align: right;\n",
       "    }\n",
       "\n",
       "    .dataframe thead th {\n",
       "        text-align: left;\n",
       "    }\n",
       "\n",
       "    .dataframe tbody tr th {\n",
       "        vertical-align: top;\n",
       "    }\n",
       "</style>\n",
       "<table border=\"1\" class=\"dataframe\">\n",
       "  <thead>\n",
       "    <tr style=\"text-align: right;\">\n",
       "      <th>Type</th>\n",
       "      <th>Acquisition</th>\n",
       "      <th>Combination</th>\n",
       "      <th>Development</th>\n",
       "      <th>Planning</th>\n",
       "      <th>Redevelopment</th>\n",
       "    </tr>\n",
       "    <tr>\n",
       "      <th>State</th>\n",
       "      <th></th>\n",
       "      <th></th>\n",
       "      <th></th>\n",
       "      <th></th>\n",
       "      <th></th>\n",
       "    </tr>\n",
       "  </thead>\n",
       "  <tbody>\n",
       "    <tr>\n",
       "      <th>CT</th>\n",
       "      <td>32.279388</td>\n",
       "      <td>2.469008</td>\n",
       "      <td>21.795373</td>\n",
       "      <td>0.911663</td>\n",
       "      <td>5.739660</td>\n",
       "    </tr>\n",
       "    <tr>\n",
       "      <th>MA</th>\n",
       "      <td>29.470401</td>\n",
       "      <td>12.409701</td>\n",
       "      <td>36.422255</td>\n",
       "      <td>1.293133</td>\n",
       "      <td>17.996427</td>\n",
       "    </tr>\n",
       "    <tr>\n",
       "      <th>ME</th>\n",
       "      <td>10.707452</td>\n",
       "      <td>6.614504</td>\n",
       "      <td>18.218328</td>\n",
       "      <td>0.870131</td>\n",
       "      <td>4.446624</td>\n",
       "    </tr>\n",
       "    <tr>\n",
       "      <th>NH</th>\n",
       "      <td>10.118614</td>\n",
       "      <td>5.623054</td>\n",
       "      <td>17.101768</td>\n",
       "      <td>1.132974</td>\n",
       "      <td>2.532003</td>\n",
       "    </tr>\n",
       "    <tr>\n",
       "      <th>RI</th>\n",
       "      <td>6.549517</td>\n",
       "      <td>2.009323</td>\n",
       "      <td>24.080018</td>\n",
       "      <td>0.957441</td>\n",
       "      <td>6.229981</td>\n",
       "    </tr>\n",
       "    <tr>\n",
       "      <th>VT</th>\n",
       "      <td>9.617666</td>\n",
       "      <td>2.308353</td>\n",
       "      <td>16.240549</td>\n",
       "      <td>0.805994</td>\n",
       "      <td>4.342858</td>\n",
       "    </tr>\n",
       "  </tbody>\n",
       "</table>\n",
       "</div>"
      ],
      "text/plain": [
       "Type   Acquisition  Combination  Development  Planning  Redevelopment\n",
       "State                                                                \n",
       "CT       32.279388     2.469008    21.795373  0.911663       5.739660\n",
       "MA       29.470401    12.409701    36.422255  1.293133      17.996427\n",
       "ME       10.707452     6.614504    18.218328  0.870131       4.446624\n",
       "NH       10.118614     5.623054    17.101768  1.132974       2.532003\n",
       "RI        6.549517     2.009323    24.080018  0.957441       6.229981\n",
       "VT        9.617666     2.308353    16.240549  0.805994       4.342858"
      ]
     },
     "execution_count": 20,
     "metadata": {},
     "output_type": "execute_result"
    }
   ],
   "source": [
    "# Breakdown of the amount of each grant by type (for each state)\n",
    "gt_amt = new_england.groupby(['State', 'Type'])['Grant Amount'].sum().unstack('Type') / 1000000\n",
    "gt_amt"
   ]
  },
  {
   "cell_type": "code",
   "execution_count": 21,
   "metadata": {},
   "outputs": [
    {
     "data": {
      "text/plain": [
       "<matplotlib.axes._subplots.AxesSubplot at 0x11e6d4c88>"
      ]
     },
     "execution_count": 21,
     "metadata": {},
     "output_type": "execute_result"
    },
    {
     "data": {
      "image/png": "[encoded data removed]",
      "text/plain": [
       "<matplotlib.figure.Figure at 0x11e5f9358>"
      ]
     },
     "metadata": {},
     "output_type": "display_data"
    }
   ],
   "source": [
    "# Plot the dollar amount of grants by type\n",
    "gt_amt.plot(kind='bar', figsize=(12,10), title='Amount in US$mm of Grants by Type', stacked=True)"
   ]
  },
  {
   "cell_type": "code",
   "execution_count": null,
   "metadata": {
    "collapsed": true
   },
   "outputs": [],
   "source": []
  }
 ],
 "metadata": {
  "kernelspec": {
   "display_name": "Python 3",
   "language": "python",
   "name": "python3"
  },
  "language_info": {
   "codemirror_mode": {
    "name": "ipython",
    "version": 3
   },
   "file_extension": ".py",
   "mimetype": "text/x-python",
   "name": "python",
   "nbconvert_exporter": "python",
   "pygments_lexer": "ipython3",
   "version": "3.6.1"
  }
 },
 "nbformat": 4,
 "nbformat_minor": 2
}
