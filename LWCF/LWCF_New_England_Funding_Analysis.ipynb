{
 "cells": [
  {
   "cell_type": "markdown",
   "metadata": {},
   "source": [
    "# LWCF Grant Funding in New England\n",
    "\n",
    "The following analysis relies on grant information by state for 1965-2011 compiled by [Investigate West](http://www.invw.org/2012/06/11/lwcf-grants-database-1283/). Unfortunately, the Land and Water Conservation Fund (LWCF) [Project List by County and Summary Reports](https://waso-lwcf.ncrc.nps.gov/public/index.cfm) page appears to be down. Additionally, the latest Annual Report posted on nps.gov is from 2012."
   ]
  },
  {
   "cell_type": "code",
   "execution_count": 3,
   "metadata": {
    "collapsed": true
   },
   "outputs": [],
   "source": [
    "import numpy as np\n",
    "import pandas as pd\n",
    "\n",
    "import matplotlib.pyplot as plt\n",
    "%matplotlib inline\n",
    "\n",
    "import seaborn as sns"
   ]
  },
  {
   "cell_type": "code",
   "execution_count": 22,
   "metadata": {
    "collapsed": true
   },
   "outputs": [],
   "source": [
    "# Import data sets\n",
    "ct_grants = pd.read_csv('./Data/CT_LWCFGrants1965-2011.csv')\n",
    "me_grants = pd.read_csv('./Data/ME_LWCFGrants1965-2011.csv')\n",
    "ma_grants = pd.read_csv('./Data/MA_LWCFGrants1965-2011.csv')\n",
    "nh_grants = pd.read_csv('./Data/NH_LWCFGrants1965-2011.csv')\n",
    "ri_grants = pd.read_csv('./Data/RI_LWCFGrants1965-2011.csv')\n",
    "vt_grants = pd.read_csv('./Data/VT_LWCFGrants1965-2011.csv')\n",
    "\n",
    "new_england = pd.concat([ct_grants, me_grants, ma_grants, nh_grants, ri_grants, vt_grants], ignore_index=True)"
   ]
  },
  {
   "cell_type": "code",
   "execution_count": 23,
   "metadata": {},
   "outputs": [
    {
     "data": {
      "text/html": [
       "<div>\n",
       "<style>\n",
       "    .dataframe thead tr:only-child th {\n",
       "        text-align: right;\n",
       "    }\n",
       "\n",
       "    .dataframe thead th {\n",
       "        text-align: left;\n",
       "    }\n",
       "\n",
       "    .dataframe tbody tr th {\n",
       "        vertical-align: top;\n",
       "    }\n",
       "</style>\n",
       "<table border=\"1\" class=\"dataframe\">\n",
       "  <thead>\n",
       "    <tr style=\"text-align: right;\">\n",
       "      <th></th>\n",
       "      <th>Grant ID &amp; Element</th>\n",
       "      <th>Grant Name</th>\n",
       "      <th>Sponsor</th>\n",
       "      <th>County</th>\n",
       "      <th>State</th>\n",
       "      <th>Grant Amount</th>\n",
       "      <th>Year Approved</th>\n",
       "      <th>Year Completed</th>\n",
       "      <th>Type</th>\n",
       "    </tr>\n",
       "  </thead>\n",
       "  <tbody>\n",
       "    <tr>\n",
       "      <th>0</th>\n",
       "      <td>1 - XXX</td>\n",
       "      <td>SULLIVAN PROPERTY</td>\n",
       "      <td>DEPT. OF AGRICULTURE &amp; NATURAL RESOU</td>\n",
       "      <td>HARTFORD</td>\n",
       "      <td>CT</td>\n",
       "      <td>$5,000.00</td>\n",
       "      <td>1965.0</td>\n",
       "      <td>1967.0</td>\n",
       "      <td>Acquisition</td>\n",
       "    </tr>\n",
       "    <tr>\n",
       "      <th>1</th>\n",
       "      <td>3 - XXX</td>\n",
       "      <td>ADELMAN FIELD</td>\n",
       "      <td>TOWN OF BOZRAH</td>\n",
       "      <td>MIDDLESEX</td>\n",
       "      <td>CT</td>\n",
       "      <td>$3,000.00</td>\n",
       "      <td>1965.0</td>\n",
       "      <td>1966.0</td>\n",
       "      <td>Acquisition</td>\n",
       "    </tr>\n",
       "    <tr>\n",
       "      <th>2</th>\n",
       "      <td>4 - XXX</td>\n",
       "      <td>STATE OUTDOOR RECREATION PLAN</td>\n",
       "      <td>DEPT. OF AGRICULTURE &amp; NATURAL RESOU</td>\n",
       "      <td>PLANNING</td>\n",
       "      <td>CT</td>\n",
       "      <td>$22,500.00</td>\n",
       "      <td>1965.0</td>\n",
       "      <td>1966.0</td>\n",
       "      <td>Planning</td>\n",
       "    </tr>\n",
       "    <tr>\n",
       "      <th>3</th>\n",
       "      <td>5 - XXX</td>\n",
       "      <td>COUTU PROPERTY</td>\n",
       "      <td>TOWN OF MANSFIELD</td>\n",
       "      <td>TOLLAND</td>\n",
       "      <td>CT</td>\n",
       "      <td>$300.00</td>\n",
       "      <td>1965.0</td>\n",
       "      <td>1967.0</td>\n",
       "      <td>Acquisition</td>\n",
       "    </tr>\n",
       "    <tr>\n",
       "      <th>4</th>\n",
       "      <td>2 - XXX</td>\n",
       "      <td>GOODWIN STATE FOREST</td>\n",
       "      <td>DEPT. OF AGRICULTURE &amp; NATURAL RESOU</td>\n",
       "      <td>WINDHAM</td>\n",
       "      <td>CT</td>\n",
       "      <td>$6,000.00</td>\n",
       "      <td>1965.0</td>\n",
       "      <td>1967.0</td>\n",
       "      <td>Acquisition</td>\n",
       "    </tr>\n",
       "  </tbody>\n",
       "</table>\n",
       "</div>"
      ],
      "text/plain": [
       "  Grant ID & Element                     Grant Name  \\\n",
       "0            1 - XXX              SULLIVAN PROPERTY   \n",
       "1            3 - XXX                  ADELMAN FIELD   \n",
       "2            4 - XXX  STATE OUTDOOR RECREATION PLAN   \n",
       "3            5 - XXX                 COUTU PROPERTY   \n",
       "4            2 - XXX           GOODWIN STATE FOREST   \n",
       "\n",
       "                                Sponsor     County State Grant Amount  \\\n",
       "0  DEPT. OF AGRICULTURE & NATURAL RESOU   HARTFORD    CT   $5,000.00    \n",
       "1                        TOWN OF BOZRAH  MIDDLESEX    CT   $3,000.00    \n",
       "2  DEPT. OF AGRICULTURE & NATURAL RESOU   PLANNING    CT  $22,500.00    \n",
       "3                     TOWN OF MANSFIELD    TOLLAND    CT     $300.00    \n",
       "4  DEPT. OF AGRICULTURE & NATURAL RESOU    WINDHAM    CT   $6,000.00    \n",
       "\n",
       "   Year Approved  Year Completed         Type  \n",
       "0         1965.0          1967.0  Acquisition  \n",
       "1         1965.0          1966.0  Acquisition  \n",
       "2         1965.0          1966.0     Planning  \n",
       "3         1965.0          1967.0  Acquisition  \n",
       "4         1965.0          1967.0  Acquisition  "
      ]
     },
     "execution_count": 23,
     "metadata": {},
     "output_type": "execute_result"
    }
   ],
   "source": [
    "new_england.head()"
   ]
  },
  {
   "cell_type": "code",
   "execution_count": 24,
   "metadata": {},
   "outputs": [
    {
     "data": {
      "text/html": [
       "<div>\n",
       "<style>\n",
       "    .dataframe thead tr:only-child th {\n",
       "        text-align: right;\n",
       "    }\n",
       "\n",
       "    .dataframe thead th {\n",
       "        text-align: left;\n",
       "    }\n",
       "\n",
       "    .dataframe tbody tr th {\n",
       "        vertical-align: top;\n",
       "    }\n",
       "</style>\n",
       "<table border=\"1\" class=\"dataframe\">\n",
       "  <thead>\n",
       "    <tr style=\"text-align: right;\">\n",
       "      <th></th>\n",
       "      <th>Grant ID &amp; Element</th>\n",
       "      <th>Grant Name</th>\n",
       "      <th>Sponsor</th>\n",
       "      <th>County</th>\n",
       "      <th>State</th>\n",
       "      <th>Grant Amount</th>\n",
       "      <th>Year Approved</th>\n",
       "      <th>Year Completed</th>\n",
       "      <th>Type</th>\n",
       "    </tr>\n",
       "  </thead>\n",
       "  <tbody>\n",
       "    <tr>\n",
       "      <th>3263</th>\n",
       "      <td>624 - XXX</td>\n",
       "      <td>Tunbridge Recreation Area Acquisition</td>\n",
       "      <td>Town of Tunbridge</td>\n",
       "      <td>ORANGE</td>\n",
       "      <td>VT</td>\n",
       "      <td>$11,035.00</td>\n",
       "      <td>2011.0</td>\n",
       "      <td>2011.0</td>\n",
       "      <td>Acquisition</td>\n",
       "    </tr>\n",
       "    <tr>\n",
       "      <th>3264</th>\n",
       "      <td>625 - XXX</td>\n",
       "      <td>Fair Haven Recreation Area and Playground</td>\n",
       "      <td>Town of Fair Haven</td>\n",
       "      <td>RUTLAND</td>\n",
       "      <td>VT</td>\n",
       "      <td>$13,000.00</td>\n",
       "      <td>2011.0</td>\n",
       "      <td>2011.0</td>\n",
       "      <td>Development</td>\n",
       "    </tr>\n",
       "    <tr>\n",
       "      <th>3265</th>\n",
       "      <td>627 - XXX</td>\n",
       "      <td>Chester Recreation - Community Pavilion Project</td>\n",
       "      <td>Town of Chester</td>\n",
       "      <td>WINDSOR</td>\n",
       "      <td>VT</td>\n",
       "      <td>$17,000.00</td>\n",
       "      <td>2011.0</td>\n",
       "      <td>2011.0</td>\n",
       "      <td>Development</td>\n",
       "    </tr>\n",
       "    <tr>\n",
       "      <th>3266</th>\n",
       "      <td>NaN</td>\n",
       "      <td>NaN</td>\n",
       "      <td>NaN</td>\n",
       "      <td>NaN</td>\n",
       "      <td>NaN</td>\n",
       "      <td>NaN</td>\n",
       "      <td>NaN</td>\n",
       "      <td>NaN</td>\n",
       "      <td>NaN</td>\n",
       "    </tr>\n",
       "    <tr>\n",
       "      <th>3267</th>\n",
       "      <td>NaN</td>\n",
       "      <td>NaN</td>\n",
       "      <td>NaN</td>\n",
       "      <td>NaN</td>\n",
       "      <td>NaN</td>\n",
       "      <td>NaN</td>\n",
       "      <td>NaN</td>\n",
       "      <td>NaN</td>\n",
       "      <td>NaN</td>\n",
       "    </tr>\n",
       "  </tbody>\n",
       "</table>\n",
       "</div>"
      ],
      "text/plain": [
       "     Grant ID & Element                                       Grant Name  \\\n",
       "3263          624 - XXX            Tunbridge Recreation Area Acquisition   \n",
       "3264          625 - XXX        Fair Haven Recreation Area and Playground   \n",
       "3265          627 - XXX  Chester Recreation - Community Pavilion Project   \n",
       "3266                NaN                                              NaN   \n",
       "3267                NaN                                              NaN   \n",
       "\n",
       "                 Sponsor   County State Grant Amount  Year Approved  \\\n",
       "3263   Town of Tunbridge   ORANGE    VT  $11,035.00          2011.0   \n",
       "3264  Town of Fair Haven  RUTLAND    VT  $13,000.00          2011.0   \n",
       "3265     Town of Chester  WINDSOR    VT  $17,000.00          2011.0   \n",
       "3266                 NaN      NaN   NaN          NaN            NaN   \n",
       "3267                 NaN      NaN   NaN          NaN            NaN   \n",
       "\n",
       "      Year Completed         Type  \n",
       "3263          2011.0  Acquisition  \n",
       "3264          2011.0  Development  \n",
       "3265          2011.0  Development  \n",
       "3266             NaN          NaN  \n",
       "3267             NaN          NaN  "
      ]
     },
     "execution_count": 24,
     "metadata": {},
     "output_type": "execute_result"
    }
   ],
   "source": [
    "new_england.tail()"
   ]
  },
  {
   "cell_type": "code",
   "execution_count": 26,
   "metadata": {},
   "outputs": [
    {
     "data": {
      "text/plain": [
       "(3268, 9)"
      ]
     },
     "execution_count": 26,
     "metadata": {},
     "output_type": "execute_result"
    }
   ],
   "source": [
    "new_england.shape"
   ]
  },
  {
   "cell_type": "code",
   "execution_count": 27,
   "metadata": {},
   "outputs": [
    {
     "name": "stdout",
     "output_type": "stream",
     "text": [
      "<class 'pandas.core.frame.DataFrame'>\n",
      "RangeIndex: 3268 entries, 0 to 3267\n",
      "Data columns (total 9 columns):\n",
      "Grant ID & Element    3260 non-null object\n",
      "Grant Name            3260 non-null object\n",
      "Sponsor               3260 non-null object\n",
      "County                3260 non-null object\n",
      "State                 3260 non-null object\n",
      "Grant Amount          3260 non-null object\n",
      "Year Approved         3260 non-null float64\n",
      "Year Completed        3260 non-null float64\n",
      "Type                  3260 non-null object\n",
      "dtypes: float64(2), object(7)\n",
      "memory usage: 229.9+ KB\n"
     ]
    }
   ],
   "source": [
    "new_england.info()"
   ]
  },
  {
   "cell_type": "code",
   "execution_count": 30,
   "metadata": {},
   "outputs": [],
   "source": [
    "# Remove rows with all NaN values\n",
    "new_england.dropna(how='all', inplace=True)"
   ]
  },
  {
   "cell_type": "code",
   "execution_count": null,
   "metadata": {
    "collapsed": true
   },
   "outputs": [],
   "source": []
  }
 ],
 "metadata": {
  "kernelspec": {
   "display_name": "Python 3",
   "language": "python",
   "name": "python3"
  },
  "language_info": {
   "codemirror_mode": {
    "name": "ipython",
    "version": 3
   },
   "file_extension": ".py",
   "mimetype": "text/x-python",
   "name": "python",
   "nbconvert_exporter": "python",
   "pygments_lexer": "ipython3",
   "version": "3.6.1"
  }
 },
 "nbformat": 4,
 "nbformat_minor": 2
}
