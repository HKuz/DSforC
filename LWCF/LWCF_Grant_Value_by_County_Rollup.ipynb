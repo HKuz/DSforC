{
 "cells": [
  {
   "cell_type": "markdown",
   "metadata": {},
   "source": [
    "# Rollup of Total Grant Value for all US Counties\n",
    "\n",
    "Grant information by state was compiled by [Investigate West](http://www.invw.org/2012/06/11/lwcf-grants-database-1283/) for the period 1965-2011."
   ]
  },
  {
   "cell_type": "code",
   "execution_count": 2,
   "metadata": {},
   "outputs": [],
   "source": [
    "import glob\n",
    "\n",
    "import numpy as np\n",
    "import pandas as pd\n",
    "\n",
    "import matplotlib.pyplot as plt\n",
    "%matplotlib inline\n",
    "import seaborn as sns"
   ]
  },
  {
   "cell_type": "code",
   "execution_count": 11,
   "metadata": {},
   "outputs": [
    {
     "data": {
      "text/html": [
       "<div>\n",
       "<style scoped>\n",
       "    .dataframe tbody tr th:only-of-type {\n",
       "        vertical-align: middle;\n",
       "    }\n",
       "\n",
       "    .dataframe tbody tr th {\n",
       "        vertical-align: top;\n",
       "    }\n",
       "\n",
       "    .dataframe thead th {\n",
       "        text-align: right;\n",
       "    }\n",
       "</style>\n",
       "<table border=\"1\" class=\"dataframe\">\n",
       "  <thead>\n",
       "    <tr style=\"text-align: right;\">\n",
       "      <th></th>\n",
       "      <th>Grant ID &amp; Element</th>\n",
       "      <th>Grant Name</th>\n",
       "      <th>Sponsor</th>\n",
       "      <th>County</th>\n",
       "      <th>State</th>\n",
       "      <th>Grant Amount</th>\n",
       "      <th>Year Approved</th>\n",
       "      <th>Year Completed</th>\n",
       "      <th>Type</th>\n",
       "    </tr>\n",
       "  </thead>\n",
       "  <tbody>\n",
       "    <tr>\n",
       "      <th>0</th>\n",
       "      <td>3 - XXX</td>\n",
       "      <td>INDIAN PEAKS - BAKER CANYON</td>\n",
       "      <td>STATE OF UTAH</td>\n",
       "      <td>BEAVER</td>\n",
       "      <td>UT</td>\n",
       "      <td>5985.92</td>\n",
       "      <td>1966</td>\n",
       "      <td>1966</td>\n",
       "      <td>Development</td>\n",
       "    </tr>\n",
       "    <tr>\n",
       "      <th>1</th>\n",
       "      <td>4 - XXX</td>\n",
       "      <td>WEST BEAR RIVER BAY</td>\n",
       "      <td>STATE OF UTAH</td>\n",
       "      <td>BOX ELDER</td>\n",
       "      <td>UT</td>\n",
       "      <td>18500.00</td>\n",
       "      <td>1966</td>\n",
       "      <td>1967</td>\n",
       "      <td>Development</td>\n",
       "    </tr>\n",
       "    <tr>\n",
       "      <th>2</th>\n",
       "      <td>6 - XXX</td>\n",
       "      <td>WELLSVILLE PARK</td>\n",
       "      <td>CITY OF WELLSVILLE</td>\n",
       "      <td>CACHE</td>\n",
       "      <td>UT</td>\n",
       "      <td>934.25</td>\n",
       "      <td>1966</td>\n",
       "      <td>1967</td>\n",
       "      <td>Acquisition</td>\n",
       "    </tr>\n",
       "    <tr>\n",
       "      <th>3</th>\n",
       "      <td>2 - XXX</td>\n",
       "      <td>FARMINGTON BAY WATERFOWL AREA</td>\n",
       "      <td>STATE OF UTAH</td>\n",
       "      <td>DAVIS</td>\n",
       "      <td>UT</td>\n",
       "      <td>15150.00</td>\n",
       "      <td>1966</td>\n",
       "      <td>1967</td>\n",
       "      <td>Acquisition</td>\n",
       "    </tr>\n",
       "    <tr>\n",
       "      <th>4</th>\n",
       "      <td>11 - XXX</td>\n",
       "      <td>4 CITY PARKS</td>\n",
       "      <td>CITY OF BOUNTIFUL</td>\n",
       "      <td>DAVIS</td>\n",
       "      <td>UT</td>\n",
       "      <td>16225.15</td>\n",
       "      <td>1966</td>\n",
       "      <td>1966</td>\n",
       "      <td>Development</td>\n",
       "    </tr>\n",
       "  </tbody>\n",
       "</table>\n",
       "</div>"
      ],
      "text/plain": [
       "  Grant ID & Element                     Grant Name             Sponsor  \\\n",
       "0            3 - XXX    INDIAN PEAKS - BAKER CANYON       STATE OF UTAH   \n",
       "1            4 - XXX            WEST BEAR RIVER BAY       STATE OF UTAH   \n",
       "2            6 - XXX                WELLSVILLE PARK  CITY OF WELLSVILLE   \n",
       "3            2 - XXX  FARMINGTON BAY WATERFOWL AREA       STATE OF UTAH   \n",
       "4           11 - XXX                   4 CITY PARKS   CITY OF BOUNTIFUL   \n",
       "\n",
       "      County State  Grant Amount  Year Approved  Year Completed         Type  \n",
       "0     BEAVER    UT       5985.92           1966            1966  Development  \n",
       "1  BOX ELDER    UT      18500.00           1966            1967  Development  \n",
       "2      CACHE    UT        934.25           1966            1967  Acquisition  \n",
       "3      DAVIS    UT      15150.00           1966            1967  Acquisition  \n",
       "4      DAVIS    UT      16225.15           1966            1966  Development  "
      ]
     },
     "execution_count": 11,
     "metadata": {},
     "output_type": "execute_result"
    }
   ],
   "source": [
    "# Collect all file names and process into DataFrames\n",
    "state_files = glob.glob('./Data/StateGrantData/*.xlsx')\n",
    "dfs = []\n",
    "\n",
    "for file in state_files:\n",
    "    dfs.append(pd.read_excel(file))\n",
    "\n",
    "all_states = pd.concat(dfs, ignore_index=True)\n",
    "all_states.head()"
   ]
  },
  {
   "cell_type": "code",
   "execution_count": 12,
   "metadata": {},
   "outputs": [
    {
     "name": "stdout",
     "output_type": "stream",
     "text": [
      "<class 'pandas.core.frame.DataFrame'>\n",
      "RangeIndex: 41145 entries, 0 to 41144\n",
      "Data columns (total 9 columns):\n",
      "Grant ID & Element    41145 non-null object\n",
      "Grant Name            41145 non-null object\n",
      "Sponsor               41145 non-null object\n",
      "County                41145 non-null object\n",
      "State                 41145 non-null object\n",
      "Grant Amount          41145 non-null float64\n",
      "Year Approved         41145 non-null int64\n",
      "Year Completed        41145 non-null int64\n",
      "Type                  41145 non-null object\n",
      "dtypes: float64(1), int64(2), object(6)\n",
      "memory usage: 2.8+ MB\n"
     ]
    }
   ],
   "source": [
    "all_states.info()"
   ]
  },
  {
   "cell_type": "code",
   "execution_count": 16,
   "metadata": {},
   "outputs": [
    {
     "data": {
      "text/plain": [
       "array(['AK', 'AL', 'AR', 'AZ', 'CA', 'CO', 'CT', 'DC', 'DE', 'FL', 'GA',\n",
       "       'HI', 'IA', 'ID', 'IL', 'IN', 'KS', 'KY', 'LA', 'MA', 'MD', 'ME',\n",
       "       'MI', 'MN', 'MO', 'MS', 'MT', 'NC', 'ND', 'NE', 'NH', 'NJ', 'NM',\n",
       "       'NV', 'NY', 'OH', 'OK', 'OR', 'PA', 'RI', 'SC', 'SD', 'TN', 'TX',\n",
       "       'UT', 'VA', 'VT', 'WA', 'WI', 'WV', 'WY'], dtype=object)"
      ]
     },
     "execution_count": 16,
     "metadata": {},
     "output_type": "execute_result"
    }
   ],
   "source": [
    "all_states['State'].sort_values().unique()"
   ]
  },
  {
   "cell_type": "code",
   "execution_count": 17,
   "metadata": {},
   "outputs": [
    {
     "data": {
      "text/plain": [
       "51"
      ]
     },
     "execution_count": 17,
     "metadata": {},
     "output_type": "execute_result"
    }
   ],
   "source": [
    "all_states['State'].nunique()"
   ]
  },
  {
   "cell_type": "code",
   "execution_count": 19,
   "metadata": {},
   "outputs": [
    {
     "data": {
      "text/html": [
       "<div>\n",
       "<style scoped>\n",
       "    .dataframe tbody tr th:only-of-type {\n",
       "        vertical-align: middle;\n",
       "    }\n",
       "\n",
       "    .dataframe tbody tr th {\n",
       "        vertical-align: top;\n",
       "    }\n",
       "\n",
       "    .dataframe thead th {\n",
       "        text-align: right;\n",
       "    }\n",
       "</style>\n",
       "<table border=\"1\" class=\"dataframe\">\n",
       "  <thead>\n",
       "    <tr style=\"text-align: right;\">\n",
       "      <th></th>\n",
       "      <th>Grant ID &amp; Element</th>\n",
       "      <th>Grant Name</th>\n",
       "      <th>Sponsor</th>\n",
       "      <th>County</th>\n",
       "      <th>State</th>\n",
       "      <th>Grant Amount</th>\n",
       "      <th>Year Approved</th>\n",
       "      <th>Year Completed</th>\n",
       "      <th>Type</th>\n",
       "      <th>county_upd</th>\n",
       "      <th>key</th>\n",
       "    </tr>\n",
       "  </thead>\n",
       "  <tbody>\n",
       "    <tr>\n",
       "      <th>0</th>\n",
       "      <td>3 - XXX</td>\n",
       "      <td>INDIAN PEAKS - BAKER CANYON</td>\n",
       "      <td>STATE OF UTAH</td>\n",
       "      <td>BEAVER</td>\n",
       "      <td>UT</td>\n",
       "      <td>5985.92</td>\n",
       "      <td>1966</td>\n",
       "      <td>1966</td>\n",
       "      <td>Development</td>\n",
       "      <td>Beaver County</td>\n",
       "      <td>Beaver County UT</td>\n",
       "    </tr>\n",
       "    <tr>\n",
       "      <th>1</th>\n",
       "      <td>4 - XXX</td>\n",
       "      <td>WEST BEAR RIVER BAY</td>\n",
       "      <td>STATE OF UTAH</td>\n",
       "      <td>BOX ELDER</td>\n",
       "      <td>UT</td>\n",
       "      <td>18500.00</td>\n",
       "      <td>1966</td>\n",
       "      <td>1967</td>\n",
       "      <td>Development</td>\n",
       "      <td>Box Elder County</td>\n",
       "      <td>Box Elder County UT</td>\n",
       "    </tr>\n",
       "    <tr>\n",
       "      <th>2</th>\n",
       "      <td>6 - XXX</td>\n",
       "      <td>WELLSVILLE PARK</td>\n",
       "      <td>CITY OF WELLSVILLE</td>\n",
       "      <td>CACHE</td>\n",
       "      <td>UT</td>\n",
       "      <td>934.25</td>\n",
       "      <td>1966</td>\n",
       "      <td>1967</td>\n",
       "      <td>Acquisition</td>\n",
       "      <td>Cache County</td>\n",
       "      <td>Cache County UT</td>\n",
       "    </tr>\n",
       "    <tr>\n",
       "      <th>3</th>\n",
       "      <td>2 - XXX</td>\n",
       "      <td>FARMINGTON BAY WATERFOWL AREA</td>\n",
       "      <td>STATE OF UTAH</td>\n",
       "      <td>DAVIS</td>\n",
       "      <td>UT</td>\n",
       "      <td>15150.00</td>\n",
       "      <td>1966</td>\n",
       "      <td>1967</td>\n",
       "      <td>Acquisition</td>\n",
       "      <td>Davis County</td>\n",
       "      <td>Davis County UT</td>\n",
       "    </tr>\n",
       "    <tr>\n",
       "      <th>4</th>\n",
       "      <td>11 - XXX</td>\n",
       "      <td>4 CITY PARKS</td>\n",
       "      <td>CITY OF BOUNTIFUL</td>\n",
       "      <td>DAVIS</td>\n",
       "      <td>UT</td>\n",
       "      <td>16225.15</td>\n",
       "      <td>1966</td>\n",
       "      <td>1966</td>\n",
       "      <td>Development</td>\n",
       "      <td>Davis County</td>\n",
       "      <td>Davis County UT</td>\n",
       "    </tr>\n",
       "  </tbody>\n",
       "</table>\n",
       "</div>"
      ],
      "text/plain": [
       "  Grant ID & Element                     Grant Name             Sponsor  \\\n",
       "0            3 - XXX    INDIAN PEAKS - BAKER CANYON       STATE OF UTAH   \n",
       "1            4 - XXX            WEST BEAR RIVER BAY       STATE OF UTAH   \n",
       "2            6 - XXX                WELLSVILLE PARK  CITY OF WELLSVILLE   \n",
       "3            2 - XXX  FARMINGTON BAY WATERFOWL AREA       STATE OF UTAH   \n",
       "4           11 - XXX                   4 CITY PARKS   CITY OF BOUNTIFUL   \n",
       "\n",
       "      County State  Grant Amount  Year Approved  Year Completed         Type  \\\n",
       "0     BEAVER    UT       5985.92           1966            1966  Development   \n",
       "1  BOX ELDER    UT      18500.00           1966            1967  Development   \n",
       "2      CACHE    UT        934.25           1966            1967  Acquisition   \n",
       "3      DAVIS    UT      15150.00           1966            1967  Acquisition   \n",
       "4      DAVIS    UT      16225.15           1966            1966  Development   \n",
       "\n",
       "         county_upd                  key  \n",
       "0     Beaver County     Beaver County UT  \n",
       "1  Box Elder County  Box Elder County UT  \n",
       "2      Cache County      Cache County UT  \n",
       "3      Davis County      Davis County UT  \n",
       "4      Davis County      Davis County UT  "
      ]
     },
     "execution_count": 19,
     "metadata": {},
     "output_type": "execute_result"
    }
   ],
   "source": [
    "# Combine the county name with state\n",
    "all_states['county_upd'] = all_states['County'].map(lambda s: s.title() + ' County')\n",
    "\n",
    "# Add unique key column\n",
    "all_states['key'] = all_states['county_upd'] + ' ' + all_states['State']\n",
    "\n",
    "all_states.head()"
   ]
  },
  {
   "cell_type": "code",
   "execution_count": null,
   "metadata": {},
   "outputs": [],
   "source": []
  }
 ],
 "metadata": {
  "kernelspec": {
   "display_name": "Python 3",
   "language": "python",
   "name": "python3"
  },
  "language_info": {
   "codemirror_mode": {
    "name": "ipython",
    "version": 3
   },
   "file_extension": ".py",
   "mimetype": "text/x-python",
   "name": "python",
   "nbconvert_exporter": "python",
   "pygments_lexer": "ipython3",
   "version": "3.7.3"
  }
 },
 "nbformat": 4,
 "nbformat_minor": 2
}
