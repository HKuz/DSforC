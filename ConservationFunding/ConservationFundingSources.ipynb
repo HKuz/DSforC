{
 "cells": [
  {
   "cell_type": "markdown",
   "metadata": {},
   "source": [
    "# Conservation Funding Sources\n",
    "\n",
    "Conservation dollars in the US go towards wildlife and fisheries management, outdoor recreation access, and habitat improvement, among other things. In addition to the dollars that hunters and anglers spend on State-level hunting and fishing licenses, tags, or federal duck stamps, there are several other major funding sources that support conservation initiatives:\n",
    "\n",
    "- The Farm Bill: provides incentives for private land owners to improve habitat, wetlands, and water quality on their property as well as consider public hunting and fishing access\n",
    "- [The Land and Water Conservation Fund (LWCF)](../LWCF/README.md): LWCF dollars (funded by royalties from offshore oil and gas drilling, not taxpayers) help state and local governments protect natural areas, water resources, and important cultural heritage sites in the US with the goal to promote outdoor recreation opportunities for everyone\n",
    "- The Federal Aid in Wildlife Restoration Act (Pittman-Robertson Act): collects an 11% excise tax on firearms, ammunition, and archery equipment, which is then redistributed to states to fund conservation projects\n",
    "- The Federal Aid in Sport Fish Restoration Act (Dingell-Johnson Act): modeled after the Pittman-Robertson Act, the Dingell-Johnson Act collects an excise tax on fishing tackle and motorboat fuel to support fish population management, water access, and similar initiatives\n",
    "\n",
    "According to the [U.S. Fish and Wildlife Service website](https://www.fws.gov/hunting/whatdo.html):\n",
    "\n",
    ">Each year, nearly $200 million in hunters' federal excise taxes are distributed to State agencies to support wildlife management programs, the purchase of lands open to hunters, and hunter education and safety classes. Proceeds from the Federal Duck Stamp, a required purchase for migratory waterfowl hunters, have purchased more than five million acres of habitat for the refuge system (2005 statistics only); lands that support waterfowl and many other wildlife species, and are usually open to hunting."
   ]
  },
  {
   "cell_type": "markdown",
   "metadata": {
    "collapsed": true
   },
   "source": [
    "## Sources\n",
    "\n",
    "- [Report: Financial Returns to Industry from the Federal Aid in Wildlife Restoration Program](https://wsfrprograms.fws.gov/Subpages/GrantPrograms/MultiState/MS_WRTaxReport2011.pdf)"
   ]
  }
 ],
 "metadata": {
  "kernelspec": {
   "display_name": "Python 3",
   "language": "python",
   "name": "python3"
  },
  "language_info": {
   "codemirror_mode": {
    "name": "ipython",
    "version": 3
   },
   "file_extension": ".py",
   "mimetype": "text/x-python",
   "name": "python",
   "nbconvert_exporter": "python",
   "pygments_lexer": "ipython3",
   "version": "3.6.1"
  }
 },
 "nbformat": 4,
 "nbformat_minor": 2
}
