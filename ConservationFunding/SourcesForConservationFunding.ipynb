{
 "cells": [
  {
   "cell_type": "markdown",
   "metadata": {},
   "source": [
    "# Sources for Conservation Funding\n",
    "\n",
    "Conservation dollars in the US go towards wildlife and fisheries management, outdoor recreation access, and habitat improvement, among other things. In addition to the dollars that hunters and anglers spend on State-level hunting and fishing licenses or federal duck stamps, there are several other major funding sources that support conservation initiatives:\n",
    "\n",
    "- The Farm Bill: provides incentives for private land owners to improve habitat, wetlands, and water quality on their property as well as consider public hunting and fishing access\n",
    "- [The Land and Water Conservation Fund (LWCF)](../LWCF/README.md): funded by royalties from offshore oil and gas drilling, LWCF dollars help state and local governments protect natural areas, water resources, and important cultural heritage sites in the US with the goal to promote outdoor recreation opportunities for everyone\n",
    "- The Federal Aid in Wildlife Restoration Act (Pittman-Robertson Act): an 11% excise tax on firearms, ammunition, and archery equipment, which is redistributed to states to fund conservation projects\n",
    "- The Federal Aid in Sport Fish Restoration Act (Dingell-Johnson Act): an excise tax on fishing tackle and motorboat fuel to support fish population management, water access, and similar initiatives"
   ]
  }
 ],
 "metadata": {
  "kernelspec": {
   "display_name": "Python 3",
   "language": "python",
   "name": "python3"
  },
  "language_info": {
   "codemirror_mode": {
    "name": "ipython",
    "version": 3
   },
   "file_extension": ".py",
   "mimetype": "text/x-python",
   "name": "python",
   "nbconvert_exporter": "python",
   "pygments_lexer": "ipython3",
   "version": "3.6.1"
  }
 },
 "nbformat": 4,
 "nbformat_minor": 2
}
