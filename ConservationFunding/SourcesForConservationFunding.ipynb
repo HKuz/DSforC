{
 "cells": [
  {
   "cell_type": "markdown",
   "metadata": {},
   "source": [
    "# Sources for Conservation Funding\n",
    "\n",
    "Conservation dollars in the US go towards wildlife and fisheries management, outdoor recreation access, and habitat improvement, among other things. In addition to dollars spent on hunting and fishing licenses or federal duck stamps, there are several other major funding sources that support conservation initiatives.\n",
    "\n",
    "- The Farm Bill\n",
    "- [The Land and Water Conservation Fund](../LWCF/README.md)\n",
    "- The Federal Aid in Wildlife Restoration Act (Pittman-Robertson Act)\n",
    "- The Federal Aid in Sport Fish Restoration Act (Dingell-Johnson Act)\n",
    "\n"
   ]
  }
 ],
 "metadata": {
  "kernelspec": {
   "display_name": "Python 3",
   "language": "python",
   "name": "python3"
  },
  "language_info": {
   "codemirror_mode": {
    "name": "ipython",
    "version": 3
   },
   "file_extension": ".py",
   "mimetype": "text/x-python",
   "name": "python",
   "nbconvert_exporter": "python",
   "pygments_lexer": "ipython3",
   "version": "3.6.1"
  }
 },
 "nbformat": 4,
 "nbformat_minor": 2
}
