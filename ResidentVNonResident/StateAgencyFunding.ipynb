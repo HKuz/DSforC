{
 "cells": [
  {
   "cell_type": "markdown",
   "metadata": {},
   "source": [
    "# State Agency Funding\n",
    "\n",
    "In the US, State agencies (versus Federal ones) are responsible for most wildlife management responsibilities within their borders. These agencies monitor the health of both game and non-game populations, set season dates, and determine the number of tags available to hunters. They're also responsible for land and water access programs, law enforcement, and conservation projects.\n",
    "\n",
    "While each State agency has different budget sources, all of them rely to some extent on the fees collected from hunting and fishing licenses, tags, and permits. This money is required by law to stay within the department - not go into a State's general tax fund - if said State wants to qualify for other Federal-level conservation program dollars to supplement their budgets. Such programs include the Federal Aid in Wildlife Restoration Act (Pittman-Robertson Act) or the Federal Aid in Sport Fish Restoration Act (Dingell-Johnson Act) among others<sup>[1](#footnote1)</sup>.\n",
    "\n",
    "Some States, such as New Hampshire, receive very little funding from the General Fund. In FY2016 for example, only 2\\% of the department's \\$28 million budget was sourced from there, whereas 37\\% came from Federal programs and another 32\\% came from license sales.\n",
    "\n",
    "These State agencies also set the number and cost splits for hunting licenses, tags, and permits that are available to State residents and non-residents. Understandably, a higher percentage of total licenses go to residents in every State as it's generally easiest for folks to hunt where they live.\n",
    "\n",
    "\n",
    "Resident pay less for hunting licenses, tags, permits, and stamps versus what non-residents pay, and they tend to claim larger percentages for any tags that aren't available over-the-counter (one that must be drawn).\n",
    "\n",
    "Notes:\n",
    "<a name=\"footnote1\">1</a>: See the [Conservation Funding Sources](../ConservationFunding/ConservationFundingSources.ipynb) overview for more information.\n",
    "\n",
    "## Data Source\n",
    "\n",
    "Hunting license data are from U.S. Fish and Wildlife Service's [Wildlife and Sport Fish Restoration Program](https://wsfrprograms.fws.gov/Subpages/LicenseInfo/Hunting.htm)."
   ]
  },
  {
   "cell_type": "markdown",
   "metadata": {},
   "source": [
    "## Hunting License Cost Differential between Residents and Non-Residents\n",
    "\n",
    "\n",
    "\n",
    "However, it appears that for FY2018, 14 states actually collected a total dollar amount more from non-residents than they did from residents. These states are:\n",
    "\n",
    "- Alaska\n",
    "- Alabama\n",
    "- Arkansas\n",
    "- Colorado\n",
    "- Georgia\n",
    "- Idaho\n",
    "- Kansas\n",
    "- Mississippi\n",
    "- Montana\n",
    "- North Dakota\n",
    "- New Mexico\n",
    "- South Dakota\n",
    "- West Virginia\n",
    "- Wyoming\n",
    "\n",
    "In the table below, the \"Non-resident Cost Factor\" column shows the multiple of how many times over residents paid vs. non-residents. Negative numbers indicate where non-residents paid a factor higher than residents. For example, Alaska shows a cost factor of -1.9x, which means non-residents paid 1.9 times more into the system for hunting licenses, tags, permits, and stamps than residents did. For Arizona, it's the opposite - the cost factor is almost 3.0x, meaning residents paid into the system three times more than non-residents.\n",
    "\n",
    "Looking at the total hunting dollars collected from residents and non-residents, California had the highest ratio from residents, at 20.5x. So for every \\$1.00 a non-resident paid for hunting licenses, etc., a resident contributed \\$20.50. On the other end of the spectrum, Colorado collected the highest ratio from non-residents, at -3.5x. This means that for every \\$1.00 a resident put into their system, a non-resident contributed \\$3.50."
   ]
  },
  {
   "cell_type": "code",
   "execution_count": 1,
   "metadata": {},
   "outputs": [],
   "source": [
    "import numpy as np\n",
    "import pandas as pd\n",
    "\n",
    "import matplotlib.pyplot as plt\n",
    "%matplotlib inline\n",
    "\n",
    "import seaborn as sns"
   ]
  },
  {
   "cell_type": "code",
   "execution_count": null,
   "metadata": {},
   "outputs": [],
   "source": [
    "# Import Data\n",
    "df = pd.read_excel(excel_path,\n",
    "                          sheet_name='2018-Full',\n",
    "                          index_col=index_col)"
   ]
  }
 ],
 "metadata": {
  "kernelspec": {
   "display_name": "Python 3",
   "language": "python",
   "name": "python3"
  },
  "language_info": {
   "codemirror_mode": {
    "name": "ipython",
    "version": 3
   },
   "file_extension": ".py",
   "mimetype": "text/x-python",
   "name": "python",
   "nbconvert_exporter": "python",
   "pygments_lexer": "ipython3",
   "version": "3.7.3"
  }
 },
 "nbformat": 4,
 "nbformat_minor": 2
}
